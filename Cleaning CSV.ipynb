{
 "cells": [
  {
   "cell_type": "code",
   "execution_count": 17,
   "metadata": {},
   "outputs": [],
   "source": [
    "import pandas as pd\n",
    "import numpy as np\n",
    "df = pd.read_csv('dataset/Airlinesentiment_Tw.csv')"
   ]
  },
  {
   "cell_type": "code",
   "execution_count": 18,
   "metadata": {},
   "outputs": [
    {
     "name": "stdout",
     "output_type": "stream",
     "text": [
      "*********Printing Basic Information of the CSV**********\n",
      "<class 'pandas.core.frame.DataFrame'>\n",
      "RangeIndex: 14640 entries, 0 to 14639\n",
      "Data columns (total 3 columns):\n",
      "_unit_id             14640 non-null int64\n",
      "airline_sentiment    14640 non-null object\n",
      "text                 14640 non-null object\n",
      "dtypes: int64(1), object(2)\n",
      "memory usage: 343.2+ KB\n",
      "None\n"
     ]
    }
   ],
   "source": [
    "import pandas as pd\n",
    "import numpy as np\n",
    "df = pd.read_csv('dataset/Airlinesentiment_Tw.csv')\n",
    "print(\"*********Printing Basic Information of the CSV**********\")\n",
    "print(df.info())"
   ]
  },
  {
   "cell_type": "code",
   "execution_count": 19,
   "metadata": {},
   "outputs": [
    {
     "name": "stdout",
     "output_type": "stream",
     "text": [
      "*********Printing Basic Information of the CSV**********\n",
      "(14640, 3)\n"
     ]
    }
   ],
   "source": [
    "import pandas as pd\n",
    "import numpy as np\n",
    "df = pd.read_csv('dataset/Airlinesentiment_Tw.csv')\n",
    "print(\"*********Printing Basic Information of the CSV**********\")\n",
    "#print(df.info())\n",
    "print(df.shape)"
   ]
  },
  {
   "cell_type": "code",
   "execution_count": 20,
   "metadata": {},
   "outputs": [
    {
     "name": "stdout",
     "output_type": "stream",
     "text": [
      "*********Printing Basic Information of the CSV**********\n",
      "**********Printing Head/ Tail of the Dataset*********\n",
      "    _unit_id airline_sentiment  \\\n",
      "0  681448150           neutral   \n",
      "1  681448153          positive   \n",
      "2  681448156           neutral   \n",
      "3  681448158          negative   \n",
      "4  681448159          negative   \n",
      "\n",
      "                                                text  \n",
      "0                @VirginAmerica What @dhepburn said.  \n",
      "1  @VirginAmerica plus you've added commercials t...  \n",
      "2  @VirginAmerica I didn't today... Must mean I n...  \n",
      "3  @VirginAmerica it's really aggressive to blast...  \n",
      "4  @VirginAmerica and it's a really big bad thing...  \n",
      "        _unit_id airline_sentiment  \\\n",
      "14635  681679794          positive   \n",
      "14636  681679795          negative   \n",
      "14637  681679796           neutral   \n",
      "14638  681679797          negative   \n",
      "14639  681679798           neutral   \n",
      "\n",
      "                                                    text  \n",
      "14635  @AmericanAir thank you we got on a different f...  \n",
      "14636  @AmericanAir leaving over 20 minutes Late Flig...  \n",
      "14637  @AmericanAir Please bring American Airlines to...  \n",
      "14638  @AmericanAir you have my money, you change my ...  \n",
      "14639  @AmericanAir we have 8 ppl so we need 2 know h...  \n"
     ]
    }
   ],
   "source": [
    "import pandas as pd\n",
    "import numpy as np\n",
    "df = pd.read_csv('dataset/Airlinesentiment_Tw.csv')\n",
    "print(\"*********Printing Basic Information of the CSV**********\")\n",
    "#print(df.info())\n",
    "#print(df.shape)\n",
    "print(\"**********Printing Head/ Tail of the Dataset*********\")\n",
    "print(df.head())\n",
    "print(df.tail())"
   ]
  },
  {
   "cell_type": "code",
   "execution_count": 21,
   "metadata": {},
   "outputs": [
    {
     "name": "stdout",
     "output_type": "stream",
     "text": [
      "0                  @VirginAmerica What @dhepburn said.\n",
      "1    @VirginAmerica plus you've added commercials t...\n",
      "2    @VirginAmerica I didn't today... Must mean I n...\n",
      "3    @VirginAmerica it's really aggressive to blast...\n",
      "4    @VirginAmerica and it's a really big bad thing...\n",
      "Name: text, dtype: object\n"
     ]
    }
   ],
   "source": [
    "import pandas as pd\n",
    "import numpy as np\n",
    "df = pd.read_csv('dataset/Airlinesentiment_Tw.csv')\n",
    "#Step:1 Stop word removal\n",
    "short_data=df.head()\n",
    "from nltk.corpus import stopwords\n",
    "stop=stopwords.words(\"english\")\n",
    "print(short_data['text'])"
   ]
  },
  {
   "cell_type": "code",
   "execution_count": 22,
   "metadata": {},
   "outputs": [
    {
     "name": "stdout",
     "output_type": "stream",
     "text": [
      "**********Removel of stop words*********\n",
      "0                     @VirginAmericaWhat@dhepburnsaid.\n",
      "1    @VirginAmericaplusaddedcommercialsexperience.....\n",
      "2    @VirginAmericaItoday...MustmeanIneedtakeanothe...\n",
      "3    @VirginAmericareallyaggressiveblastobnoxious\"e...\n",
      "4                      @VirginAmericareallybigbadthing\n",
      "Name: step1_text, dtype: object\n"
     ]
    },
    {
     "name": "stderr",
     "output_type": "stream",
     "text": [
      "/home/poochi/anaconda3/lib/python3.6/site-packages/ipykernel_launcher.py:10: SettingWithCopyWarning: \n",
      "A value is trying to be set on a copy of a slice from a DataFrame.\n",
      "Try using .loc[row_indexer,col_indexer] = value instead\n",
      "\n",
      "See the caveats in the documentation: http://pandas.pydata.org/pandas-docs/stable/indexing.html#indexing-view-versus-copy\n",
      "  # Remove the CWD from sys.path while we load stuff.\n"
     ]
    }
   ],
   "source": [
    "import pandas as pd\n",
    "import numpy as np\n",
    "df = pd.read_csv('dataset/Airlinesentiment_Tw.csv')\n",
    "#Step:1 Stop word removal\n",
    "short_data=df.head()\n",
    "from nltk.corpus import stopwords\n",
    "stop=stopwords.words(\"english\")\n",
    "#print(short_data['text'])\n",
    "print(\"**********Removel of stop words*********\")\n",
    "short_data['step1_text'] = short_data['text'].apply(lambda x: ''.join([word for word in x.split() if word not in (stop)]))\n",
    "print(short_data['step1_text'])"
   ]
  },
  {
   "cell_type": "code",
   "execution_count": 24,
   "metadata": {},
   "outputs": [
    {
     "name": "stderr",
     "output_type": "stream",
     "text": [
      "/home/poochi/anaconda3/lib/python3.6/site-packages/ipykernel_launcher.py:10: SettingWithCopyWarning: \n",
      "A value is trying to be set on a copy of a slice from a DataFrame.\n",
      "Try using .loc[row_indexer,col_indexer] = value instead\n",
      "\n",
      "See the caveats in the documentation: http://pandas.pydata.org/pandas-docs/stable/indexing.html#indexing-view-versus-copy\n",
      "  # Remove the CWD from sys.path while we load stuff.\n"
     ]
    },
    {
     "name": "stdout",
     "output_type": "stream",
     "text": [
      "\n",
      "--------------------------------\n",
      "0                  @VirginAmerica What @dhepburn said.\n",
      "1    @VirginAmerica plus added commercials experien...\n",
      "2    @VirginAmerica I today... Must mean I need tak...\n",
      "3    @VirginAmerica really aggressive blast obnoxio...\n",
      "4                  @VirginAmerica really big bad thing\n",
      "Name: step1_text, dtype: object\n",
      "-------Replace Abbreviations--------\n",
      "0                  @VirginAmerica What @dhepburn said.\n",
      "1    @VirginAmerica plus added commercials experien...\n",
      "2    @VirginAmerica I today... Must mean I need tak...\n",
      "3    @VirginAmerica really aggressive blast obnoxio...\n",
      "4                  @VirginAmerica really big bad thing\n",
      "Name: step2_text, dtype: object\n"
     ]
    },
    {
     "name": "stderr",
     "output_type": "stream",
     "text": [
      "/home/poochi/anaconda3/lib/python3.6/site-packages/ipykernel_launcher.py:41: SettingWithCopyWarning: \n",
      "A value is trying to be set on a copy of a slice from a DataFrame.\n",
      "Try using .loc[row_indexer,col_indexer] = value instead\n",
      "\n",
      "See the caveats in the documentation: http://pandas.pydata.org/pandas-docs/stable/indexing.html#indexing-view-versus-copy\n"
     ]
    }
   ],
   "source": [
    "import pandas as pd\n",
    "import numpy as np\n",
    "df = pd.read_csv('dataset/Airlinesentiment_Tw.csv')\n",
    "#Step:1 Stop word removal\n",
    "short_data=df.head()\n",
    "from nltk.corpus import stopwords\n",
    "stop=stopwords.words(\"english\")\n",
    "#print(short_data['text'])\n",
    "#print(\"**********Removel of stop words*********\")\n",
    "short_data['step1_text'] = short_data['text'].apply(lambda x: ' '.join([word for word in x.split() if word not in (stop)]))\n",
    "#print(short_data['step1_text'])\n",
    "\n",
    "# step 2 replace special char and replace abbreviations\n",
    "print('\\n--------------------------------')\n",
    "import csv,re\n",
    "\n",
    "# Code From: https://medium.com/nerd-stuff/python-script-to-turn-text-message-abbreviations-into-actual-phrases-d5db6f489222\n",
    "def translator(user_string):\n",
    "    user_string = user_string.split(\" \")\n",
    "    j = 0\n",
    "    for _str in user_string:\n",
    "        # File path which consists of Abbreviations.\n",
    "        fileName = \"abv/slang.txt\"\n",
    "\n",
    "        # File Access mode [Read Mode]\n",
    "        with open(fileName, \"r\") as myCSVfile:\n",
    "            # Reading file as CSV with delimiter as \"=\", so that abbreviation are stored in row[0] and phrases in row[1]\n",
    "            dataFromFile = csv.reader(myCSVfile, delimiter=\"=\")\n",
    "            # Removing Special Characters.\n",
    "            _str = re.sub('[^a-zA-Z0-9]+', '', _str)\n",
    "            for row in dataFromFile:\n",
    "                # Check if selected word matches short forms[LHS] in text file.\n",
    "                if _str.upper() == row[0]:\n",
    "                    # If match found replace it with its appropriate phrase in text file.\n",
    "                    user_string[j] = row[1]\n",
    "            myCSVfile.close()\n",
    "        j = j + 1\n",
    "    return ' '.join(user_string)\n",
    "print(short_data['step1_text'])\n",
    "print('-------Replace Abbreviations--------')\n",
    "short_data['step2_text'] = short_data['step1_text'].apply(lambda x:  translator(x)  ) \n",
    "print(short_data['step2_text'])"
   ]
  },
  {
   "cell_type": "code",
   "execution_count": 25,
   "metadata": {
    "scrolled": true
   },
   "outputs": [
    {
     "name": "stderr",
     "output_type": "stream",
     "text": [
      "/home/poochi/anaconda3/lib/python3.6/site-packages/ipykernel_launcher.py:13: SettingWithCopyWarning: \n",
      "A value is trying to be set on a copy of a slice from a DataFrame.\n",
      "Try using .loc[row_indexer,col_indexer] = value instead\n",
      "\n",
      "See the caveats in the documentation: http://pandas.pydata.org/pandas-docs/stable/indexing.html#indexing-view-versus-copy\n",
      "  del sys.path[0]\n"
     ]
    },
    {
     "name": "stdout",
     "output_type": "stream",
     "text": [
      "\n",
      "--------------------------------\n"
     ]
    },
    {
     "name": "stderr",
     "output_type": "stream",
     "text": [
      "/home/poochi/anaconda3/lib/python3.6/site-packages/ipykernel_launcher.py:44: SettingWithCopyWarning: \n",
      "A value is trying to be set on a copy of a slice from a DataFrame.\n",
      "Try using .loc[row_indexer,col_indexer] = value instead\n",
      "\n",
      "See the caveats in the documentation: http://pandas.pydata.org/pandas-docs/stable/indexing.html#indexing-view-versus-copy\n"
     ]
    },
    {
     "name": "stdout",
     "output_type": "stream",
     "text": [
      "***** Stemming****\n",
      "0                  @virginamerica what @dhepburn said.\n",
      "1    @virginamerica plu ad commerci experience... t...\n",
      "2    @virginamerica I today... must mean I need tak...\n",
      "3    @virginamerica realli aggress blast obnoxi \"en...\n",
      "4                  @virginamerica realli big bad thing\n",
      "Name: step3_text, dtype: object\n"
     ]
    },
    {
     "name": "stderr",
     "output_type": "stream",
     "text": [
      "/home/poochi/anaconda3/lib/python3.6/site-packages/ipykernel_launcher.py:51: SettingWithCopyWarning: \n",
      "A value is trying to be set on a copy of a slice from a DataFrame.\n",
      "Try using .loc[row_indexer,col_indexer] = value instead\n",
      "\n",
      "See the caveats in the documentation: http://pandas.pydata.org/pandas-docs/stable/indexing.html#indexing-view-versus-copy\n"
     ]
    }
   ],
   "source": [
    "import nltk,sys\n",
    "import numpy as np,pandas as pd\n",
    "import matplotlib.pyplot as plt \n",
    "import nltk.data\n",
    "from nltk.stem.porter import *\n",
    "df = pd.read_csv('dataset/Airlinesentiment_Tw.csv')\n",
    "#Step:1 Stop word removal\n",
    "short_data=df.head()\n",
    "from nltk.corpus import stopwords\n",
    "stop=stopwords.words(\"english\")\n",
    "#print(short_data['text'])\n",
    "#print(\"**********Removel of stop words*********\")\n",
    "short_data['step1_text'] = short_data['text'].apply(lambda x: ' '.join([word for word in x.split() if word not in (stop)]))\n",
    "#print(short_data['step1_text'])\n",
    "\n",
    "# step 2 replace special char and replace abbreviations\n",
    "print('\\n--------------------------------')\n",
    "import csv,re\n",
    "\n",
    "# Code From: https://medium.com/nerd-stuff/python-script-to-turn-text-message-abbreviations-into-actual-phrases-d5db6f489222\n",
    "def translator(user_string):\n",
    "    user_string = user_string.split(\" \")\n",
    "    j = 0\n",
    "    for _str in user_string:\n",
    "        # File path which consists of Abbreviations.\n",
    "        fileName = \"abv/slang.txt\"\n",
    "\n",
    "        # File Access mode [Read Mode]\n",
    "        with open(fileName, \"r\") as myCSVfile:\n",
    "            # Reading file as CSV with delimiter as \"=\", so that abbreviation are stored in row[0] and phrases in row[1]\n",
    "            dataFromFile = csv.reader(myCSVfile, delimiter=\"=\")\n",
    "            # Removing Special Characters.\n",
    "            _str = re.sub('[^a-zA-Z0-9]+', '', _str)\n",
    "            for row in dataFromFile:\n",
    "                # Check if selected word matches short forms[LHS] in text file.\n",
    "                if _str.upper() == row[0]:\n",
    "                    # If match found replace it with its appropriate phrase in text file.\n",
    "                    user_string[j] = row[1]\n",
    "            myCSVfile.close()\n",
    "        j = j + 1\n",
    "    return ' '.join(user_string)\n",
    "#print(short_data['step1_text'])\n",
    "#print('-------Replace Abbreviations--------')\n",
    "short_data['step2_text'] = short_data['step1_text'].apply(lambda x:  translator(x)  ) \n",
    "#print(short_data['step2_text'])\n",
    "\n",
    "\n",
    "#ste:3 stemming \n",
    "ps=PorterStemmer()\n",
    "print(\"***** Stemming****\")\n",
    "short_data['step3_text'] = short_data['step2_text'].apply(lambda x: ' '.join([ps.stem(word) for word in x.split()]))\n",
    "print(short_data['step3_text'])"
   ]
  },
  {
   "cell_type": "code",
   "execution_count": 26,
   "metadata": {
    "scrolled": true
   },
   "outputs": [
    {
     "name": "stdout",
     "output_type": "stream",
     "text": [
      "*********Lemmazation********\n",
      "0                  @virginamerica what @dhepburn said.\n",
      "1    @virginamerica plu ad commerci experience... t...\n",
      "2    @virginamerica I today... must mean I need tak...\n",
      "3    @virginamerica realli aggress blast obnoxi \"en...\n",
      "4                  @virginamerica realli big bad thing\n",
      "Name: step4_text, dtype: object\n"
     ]
    },
    {
     "name": "stderr",
     "output_type": "stream",
     "text": [
      "/home/poochi/anaconda3/lib/python3.6/site-packages/ipykernel_launcher.py:5: SettingWithCopyWarning: \n",
      "A value is trying to be set on a copy of a slice from a DataFrame.\n",
      "Try using .loc[row_indexer,col_indexer] = value instead\n",
      "\n",
      "See the caveats in the documentation: http://pandas.pydata.org/pandas-docs/stable/indexing.html#indexing-view-versus-copy\n",
      "  \"\"\"\n"
     ]
    }
   ],
   "source": [
    "#step4: LEmmazation\n",
    "from nltk.stem.wordnet import WordNetLemmatizer\n",
    "lmtzr = WordNetLemmatizer()\n",
    "print(\"*********Lemmazation********\")\n",
    "short_data['step4_text'] = short_data['step3_text'].apply(lambda x: ' '.join(lmtzr.lemmatize(word,'v') for word in x.split()))\n",
    "print(short_data['step4_text'])"
   ]
  },
  {
   "cell_type": "code",
   "execution_count": 27,
   "metadata": {
    "scrolled": true
   },
   "outputs": [
    {
     "name": "stdout",
     "output_type": "stream",
     "text": [
      "0                  @VirginAmerica What @dhepburn said.\n",
      "1    @VirginAmerica plus added commercials experien...\n",
      "2    @VirginAmerica I today... Must mean I need tak...\n",
      "3    @VirginAmerica really aggressive blast obnoxio...\n",
      "4                  @VirginAmerica really big bad thing\n",
      "Name: step2_text, dtype: object\n",
      "-------Part of Speech Tagging--------\n",
      "0    [(@, NN), (VirginAmerica, NNP), (What, WP), (@...\n",
      "1    [(@, NN), (VirginAmerica, NNP), (plus, CC), (a...\n",
      "2    [(@, NN), (VirginAmerica, NNP), (I, PRP), (tod...\n",
      "3    [(@, NN), (VirginAmerica, NNP), (really, RB), ...\n",
      "4    [(@, NN), (VirginAmerica, NNP), (really, RB), ...\n",
      "Name: step5_text, dtype: object\n"
     ]
    },
    {
     "name": "stderr",
     "output_type": "stream",
     "text": [
      "/home/poochi/anaconda3/lib/python3.6/site-packages/ipykernel_launcher.py:4: SettingWithCopyWarning: \n",
      "A value is trying to be set on a copy of a slice from a DataFrame.\n",
      "Try using .loc[row_indexer,col_indexer] = value instead\n",
      "\n",
      "See the caveats in the documentation: http://pandas.pydata.org/pandas-docs/stable/indexing.html#indexing-view-versus-copy\n",
      "  after removing the cwd from sys.path.\n"
     ]
    }
   ],
   "source": [
    "# step 5 Lemmazation\n",
    "print(short_data['step2_text'])\n",
    "print('-------Part of Speech Tagging--------')\n",
    "short_data['step5_text'] = short_data['step2_text'].apply(lambda x: nltk.pos_tag(nltk.word_tokenize(x)))\n",
    "print(short_data['step5_text'])"
   ]
  },
  {
   "cell_type": "code",
   "execution_count": 28,
   "metadata": {},
   "outputs": [
    {
     "name": "stdout",
     "output_type": "stream",
     "text": [
      "0                  @VirginAmerica What @dhepburn said.\n",
      "1    @VirginAmerica plus added commercials experien...\n",
      "2    @VirginAmerica I today... Must mean I need tak...\n",
      "3    @VirginAmerica really aggressive blast obnoxio...\n",
      "4                  @VirginAmerica really big bad thing\n",
      "Name: step2_text, dtype: object\n",
      "-------Capitalization--------\n",
      "0                  @VIRGINAMERICA WHAT @DHEPBURN SAID.\n",
      "1    @VIRGINAMERICA PLUS ADDED COMMERCIALS EXPERIEN...\n",
      "2    @VIRGINAMERICA I TODAY... MUST MEAN I NEED TAK...\n",
      "3    @VIRGINAMERICA REALLY AGGRESSIVE BLAST OBNOXIO...\n",
      "4                  @VIRGINAMERICA REALLY BIG BAD THING\n",
      "Name: step6_text, dtype: object\n"
     ]
    },
    {
     "name": "stderr",
     "output_type": "stream",
     "text": [
      "/home/poochi/anaconda3/lib/python3.6/site-packages/ipykernel_launcher.py:4: SettingWithCopyWarning: \n",
      "A value is trying to be set on a copy of a slice from a DataFrame.\n",
      "Try using .loc[row_indexer,col_indexer] = value instead\n",
      "\n",
      "See the caveats in the documentation: http://pandas.pydata.org/pandas-docs/stable/indexing.html#indexing-view-versus-copy\n",
      "  after removing the cwd from sys.path.\n"
     ]
    }
   ],
   "source": [
    "# step 6 Capitalization\n",
    "print(short_data['step2_text'])\n",
    "print('-------Capitalization--------')\n",
    "short_data['step6_text'] = short_data['step2_text'].apply(  lambda x: ' '.join( [ word.upper() for word in x.split() ] ) )\n",
    "print(short_data['step6_text'])"
   ]
  }
 ],
 "metadata": {
  "kernelspec": {
   "display_name": "Python 3",
   "language": "python",
   "name": "python3"
  },
  "language_info": {
   "codemirror_mode": {
    "name": "ipython",
    "version": 3
   },
   "file_extension": ".py",
   "mimetype": "text/x-python",
   "name": "python",
   "nbconvert_exporter": "python",
   "pygments_lexer": "ipython3",
   "version": "3.6.6"
  }
 },
 "nbformat": 4,
 "nbformat_minor": 2
}
